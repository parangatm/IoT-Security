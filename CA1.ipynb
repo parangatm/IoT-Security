{
  "cells": [
    {
      "cell_type": "markdown",
      "metadata": {
        "id": "view-in-github",
        "colab_type": "text"
      },
      "source": [
        "<a href=\"https://colab.research.google.com/github/parangatm/IoT-Security/blob/main/CA1.ipynb\" target=\"_parent\"><img src=\"https://colab.research.google.com/assets/colab-badge.svg\" alt=\"Open In Colab\"/></a>"
      ]
    },
    {
      "cell_type": "markdown",
      "metadata": {
        "id": "RZ4nSgqJdnNJ"
      },
      "source": [
        "# EC209AS - CA1\n",
        "Parangat Mittal<br>\n",
        "parangat@g.ucla.edu"
      ]
    },
    {
      "cell_type": "markdown",
      "metadata": {
        "id": "vvHUkPgdvCja"
      },
      "source": [
        "\n",
        "## Step 1 - Convert hex to base64\n",
        "\n",
        "> The string:\n",
        "> ```\n",
        "> 49276d206b696c6c696e6720796f757220627261696e206c696b65206120706f69736f6e6f7573206d757368726f6f6d\n",
        "> ```\n",
        "> Should produce:\n",
        "> ```\n",
        "> SSdtIGtpbGxpbmcgeW91ciBicmFpbiBsaWtlIGEgcG9pc29ub3VzIG11c2hyb29t\n",
        "> ```\n",
        "> So go ahead and make that happen. You'll need to use this code for the rest of the exercises.\n",
        ">\n",
        "> ### Comment\n",
        ">\n",
        "> Always operate on raw bytes, never on encoded strings. Only use hex and base64 for pretty-printing."
      ]
    },
    {
      "cell_type": "markdown",
      "metadata": {
        "id": "prOc7VCxdnNM"
      },
      "source": [
        "#### Description\n",
        "\n",
        "Since we always operate on bytes, the first step is to convert the hex string into bytes.\n",
        "This is being done by the following code:\n",
        "```bytes.fromhex(hex_string)```\n",
        "\n",
        "Once the hex string has been converted into bytes, it is converted into a base64-encoded byte string, via `b64encode()`.\n",
        "Finally, the byte string is converted into a base64 string, using the `.decode()` function of the byte string."
      ]
    },
    {
      "cell_type": "code",
      "execution_count": null,
      "metadata": {
        "id": "sFs0TisVvCje",
        "outputId": "1f77c518-9ff1-4aac-8452-0c3694e8d3ad"
      },
      "outputs": [
        {
          "name": "stdout",
          "output_type": "stream",
          "text": [
            "hex_string is:  49276d206b696c6c696e6720796f757220627261696e206c696b65206120706f69736f6e6f7573206d757368726f6f6d\n",
            "base64_string is:  SSdtIGtpbGxpbmcgeW91ciBicmFpbiBsaWtlIGEgcG9pc29ub3VzIG11c2hyb29t\n"
          ]
        }
      ],
      "source": [
        "# your code here ... (put some comments to explain what you did)\n",
        "from base64 import b64encode, b64decode\n",
        "\n",
        "def hex_to_base64(hex_string):\n",
        "    return b64encode(bytes.fromhex(hex_string)).decode()\n",
        "\n",
        "hex_string = \"49276d206b696c6c696e6720796f757220627261696e206c696b65206120706f69736f6e6f7573206d757368726f6f6d\"\n",
        "base64_string = hex_to_base64(hex_string)\n",
        "\n",
        "print(\"hex_string is: \", hex_string)\n",
        "print(\"base64_string is: \", base64_string)"
      ]
    },
    {
      "cell_type": "markdown",
      "metadata": {
        "id": "h2Om5KtAvCjg"
      },
      "source": [
        "## Step 2 - Fixed XOR\n",
        "\n",
        "> Write a function that takes two equal-length buffers and produces their XOR combination.\n",
        ">\n",
        "> If your function works properly, then when you feed it the string:\n",
        "> ```\n",
        "> 1c0111001f010100061a024b53535009181c\n",
        "> ```\n",
        "> ... after hex decoding, and when XOR'd (bitwise) against:\n",
        "> ```\n",
        "> 686974207468652062756c6c277320657965\n",
        "> ```\n",
        "> ... should produce:\n",
        "> ```\n",
        "> 746865206b696420646f6e277420706c6179\n",
        "> ```"
      ]
    },
    {
      "cell_type": "markdown",
      "metadata": {
        "id": "hWUZk5W4dnNO"
      },
      "source": [
        "#### Description:\n",
        "\n",
        "In Python, the bitwise exclusive-OR (or XOR) `^` operator works on data type `int`.\n",
        "\n",
        "The first step is to converted the hex strings into hexadecimal integers, which is achieved by encoding them as integers with base 16 (i.e. hexadecimal). This is done with the help of `int(hex_string, 16)` function.\n",
        "\n",
        "Once both the hex strings have been converted to hexadecimal integers, they are XORed using `^` operator. The resulting int value is converted back to hex string using the `hex()` method.\n",
        "\n",
        "P.S. the `hex()` method returns the hex string in the standard 0x... format. The initial 2 characters \"0x\" are removed from the result by slicing the string via `[2:]`."
      ]
    },
    {
      "cell_type": "code",
      "execution_count": null,
      "metadata": {
        "id": "2RrYCku-vCjg",
        "outputId": "9ed23c6c-71e3-4b19-887f-b86ccd57320c"
      },
      "outputs": [
        {
          "name": "stdout",
          "output_type": "stream",
          "text": [
            "string_1 is:  1c0111001f010100061a024b53535009181c\n",
            "string_2 is:  686974207468652062756c6c277320657965\n",
            "xor_string is:  746865206b696420646f6e277420706c6179\n"
          ]
        }
      ],
      "source": [
        "# your code with comments ... (feel free to add as many as helper functions as you need!)\n",
        "def fix_xor(string_1, string_2):\n",
        "    int16_1 = int(string_1, 16)\n",
        "    int16_2 = int(string_2, 16)\n",
        "    xor_string = int16_1^int16_2\n",
        "    return hex(xor_string)[2:]\n",
        "\n",
        "string_1 = \"1c0111001f010100061a024b53535009181c\"\n",
        "string_2 = \"686974207468652062756c6c277320657965\"\n",
        "xor_string = fix_xor(string_1, string_2)\n",
        "\n",
        "print(\"string_1 is: \", string_1)\n",
        "print(\"string_2 is: \", string_2)\n",
        "print(\"xor_string is: \", xor_string)"
      ]
    },
    {
      "cell_type": "markdown",
      "metadata": {
        "id": "ith96_nivCjh"
      },
      "source": [
        "## Step 3 - Single-byte XOR cipher\n",
        "\n",
        "> The hex encoded string:\n",
        "> ```\n",
        "> 1b37373331363f78151b7f2b783431333d78397828372d363c78373e783a393b3736\n",
        "> ```\n",
        "> ... has been XOR'd against a single character. Find the key (which is one byte) and decrypt the message. The message is a meaningful sentence in English!\n",
        ">\n",
        "> You should write a code to find the key and decrypt the message. Don't do it manually!\n",
        ">\n",
        "> ### Comment\n",
        "> There are several mini steps to achieve this! First, you need a strategy for searching in the key space. Second, you need a test/scoring mechanism to check whether the decrypted message is  meaningful or not (i.e., detecting garbage vs. the correct output). You can read more about *\"Caesar\"* cipher to get some ideas and more background!"
      ]
    },
    {
      "cell_type": "markdown",
      "metadata": {
        "id": "cOZGQsvOvCjh"
      },
      "source": [
        "#### Description\n",
        "\n",
        "Step-by-step approach for this step:\n",
        "1. Repeat the he single-byte XOR key to match the length of the encoded string.\n",
        "2. XOR each byte of the encoded string with the single-byte key (same as bitwise XOR of encoded string and byte-extended key)\n",
        "3. Perform the XOR operation for the whole keyspace (00 to FF) and get the potential decoded messages.\n",
        "4. Use the scoring mechanism defined below to score the decoded messages, and find the winner with the highest score.\n",
        "5. The highest score winner is the original decoded message and the key is the single-byte key it was XORed with.\n",
        "\n",
        "Scoring mechanism: <br>\n",
        "A valid English sentence would be composed of alphabets from `a-z` and `A-Z` and whitespaces `  `. Each of the decoded string is assigned a numeric score based on the number of alphabets and number of spaces in the string. The one with the highest score would potentially have the lowest number of garbage characters, and hence would be the valid English sentence.\n",
        "\n",
        "Implementation:\n",
        "1. and 2. are implemented in `get_xor_one_byte()` function.\n",
        "3. is implemented in `get_single_byte_xor_decode()` function.\n",
        "4. is implemented in `get_english_score()` function.\n",
        "5. is implemented in the `find_winner()` function."
      ]
    },
    {
      "cell_type": "code",
      "execution_count": null,
      "metadata": {
        "id": "AVj7s8zWvCji",
        "outputId": "b2398121-a188-4664-c4d0-8cf9c79f86d7"
      },
      "outputs": [
        {
          "name": "stdout",
          "output_type": "stream",
          "text": [
            "encoded string is:  1b37373331363f78151b7f2b783431333d78397828372d363c78373e783a393b3736\n",
            "decoded string is:  Cooking MC's like a pound of bacon\n",
            "encryption key is:  88\n"
          ]
        }
      ],
      "source": [
        "# your code with comment\n",
        "\n",
        "def get_xor_one_byte(encoded_bytes, key):\n",
        "    #repeating the key to match the length of the encoded message\n",
        "    equalized_key = bytes([key] * len(encoded_bytes))\n",
        "    #bitwise XOR of the encoded message and the byte-extended key\n",
        "    decoded_bytes = bytes(x ^ y for x, y in zip(encoded_bytes, equalized_key))\n",
        "    return decoded_bytes\n",
        "\n",
        "def get_english_score(test_string):\n",
        "    #find if the character is an alphabet or not, and sum them to find the total number of alphabets\n",
        "    no_char = sum(char.isalpha() for char in test_string)\n",
        "    #count the number of whitespaces in the string\n",
        "    no_space = test_string.count(' ')\n",
        "    #score is no of alphabets and whitespaces\n",
        "    no_total = no_char + no_space\n",
        "    return no_total\n",
        "\n",
        "def get_single_byte_xor_decode(hex_encoded_string):\n",
        "    encoded_bytes = bytes.fromhex(hex_encoded_string)\n",
        "    decoded_msgs = []\n",
        "\n",
        "    #iterating over the whole keyspace (00 to FF, i.e. 0 to 256)\n",
        "    for key in range(256):\n",
        "        decoded_bytes = get_xor_one_byte(encoded_bytes, key)\n",
        "        #convert the decoded message into a string.\n",
        "        #errors=ignore is enforced since some of garbage characters do not get decoded properly\n",
        "        decoded_text = decoded_bytes.decode('utf-8', errors='ignore')\n",
        "        decoded_msgs.append([key, decoded_text])\n",
        "\n",
        "    return decoded_msgs\n",
        "\n",
        "def find_winner(decoded_msgs):\n",
        "    winner_msg = ''\n",
        "    winner_score = 0\n",
        "    winner_key = '0'\n",
        "    for i in range(len(decoded_msgs)):\n",
        "        score = get_english_score(decoded_msgs[i][1])\n",
        "        #finding the decoded message with the highest score\n",
        "        if(score > winner_score):\n",
        "            winner_score = score\n",
        "            winner_msg = decoded_msgs[i][1]\n",
        "            winner_key = decoded_msgs[i][0]\n",
        "    return winner_msg, winner_score, winner_key\n",
        "\n",
        "#wrapper function for this whole step\n",
        "def single_byte_xor_cipher(hex_encoded_string):\n",
        "    decoded_msgs = get_single_byte_xor_decode(hex_encoded_string)\n",
        "    decoded_msg, score, enc_key = find_winner(decoded_msgs)\n",
        "    return decoded_msg, score, enc_key\n",
        "\n",
        "hex_encoded_string = \"1b37373331363f78151b7f2b783431333d78397828372d363c78373e783a393b3736\"\n",
        "\n",
        "original_msg, score, enc_key = single_byte_xor_cipher(hex_encoded_string)\n",
        "\n",
        "print(\"encoded string is: \", hex_encoded_string)\n",
        "print(\"decoded string is: \", original_msg)\n",
        "# print(\"winner score is: \", score)\n",
        "# print(\"Length of message is : \", len(original_msg))\n",
        "print(\"encryption key is: \", enc_key)\n"
      ]
    },
    {
      "cell_type": "markdown",
      "metadata": {
        "id": "WKG-XIGmvCji"
      },
      "source": [
        "## Step 4 - Detect single-character XOR\n",
        "\n",
        "> One of the 60-character strings in [this file](data/04.txt) has been encrypted by single-character XOR (each line is one string).\n",
        ">\n",
        "> Find it.\n",
        ">\n",
        "> ### Comment\n",
        "> You should use your code in Step 3 to test each line. One line should output a meaningful message. Remeber that you don't know the key either but you can find it for each line (if any)."
      ]
    },
    {
      "cell_type": "markdown",
      "metadata": {
        "id": "iQzBeSFZvCjj"
      },
      "source": [
        "#### Description\n",
        "\n",
        "TLDR: This is an extension of the Step 3 implementation of single-byte XOR cipher, where the function has to be run on each line to find the meaningful sentence.\n",
        "\n",
        "Approach:\n",
        "1. For each line in the given file, single-byte XOR is performed and the decoded messages obtained from the keyspace (00 to FF) is stored alongwith the key.\n",
        "2. Each of the decoded messages is scored using the scoring mechanism defined in previous step, and the one with highest score is found. (meaningful English sentence)\n",
        "3. Tracing back to the list where all the decoded messages were stored, the index and the key associated with the winner message is found out.\n",
        "\n",
        "Implementation:<br>\n",
        "For 1, the `single_byte_xor_cipher()` is called from step 3 to get all the possible decrypted messages.<br>\n",
        "2. is implemented by calling the `find_winner()` function declared in step 3."
      ]
    },
    {
      "cell_type": "code",
      "execution_count": null,
      "metadata": {
        "id": "WFBSPAbavCjj",
        "outputId": "755831fd-0806-4338-8794-1dabd4dfafd9"
      },
      "outputs": [
        {
          "name": "stdout",
          "output_type": "stream",
          "text": [
            "encoded line number:  170\n",
            "encoded string is:  7b5a4215415d544115415d5015455447414c155c46155f4058455c5b523f\n",
            "decoded string is:  Now that the party is jumping\n",
            "encryption key is:  53\n"
          ]
        }
      ],
      "source": [
        "# your code with comment\n",
        "\n",
        "#reading the lines of the files in a list\n",
        "file1 = \"data/04.txt\"\n",
        "with open(file1, \"r\") as file1:\n",
        "    lines = file1.readlines()\n",
        "\n",
        "all_winner_msgs = []\n",
        "possible_msgs = []\n",
        "\n",
        "#for each line all possible decoded messages are obtained\n",
        "for i,line in enumerate(lines):\n",
        "    #line.rstrip() to remove the trailing newline character\n",
        "    decoded_msg, score, enc_key = single_byte_xor_cipher(line.rstrip())\n",
        "    all_winner_msgs.append([i, decoded_msg, score, enc_key])\n",
        "\n",
        "#possible_msg list created compatible with the function find_winner()\n",
        "for a in all_winner_msgs:\n",
        "    possible_msgs.append([a[3],a[1]])\n",
        "\n",
        "#finding the message with the highest score\n",
        "winner_msg, winner_score, winner_key = find_winner(possible_msgs)\n",
        "# print(winner_msg, winner_key, winner_score)\n",
        "\n",
        "winner_line = 0\n",
        "\n",
        "#tracing back to find the line which was encoded\n",
        "for msg in all_winner_msgs:\n",
        "    if(msg[2] == winner_score):\n",
        "        winner_line = msg[0]\n",
        "\n",
        "print(\"encoded line number: \", winner_line)\n",
        "print(\"encoded string is: \", lines[winner_line].rstrip())\n",
        "print(\"decoded string is: \", winner_msg.rstrip())\n",
        "print(\"encryption key is: \", winner_key)"
      ]
    },
    {
      "cell_type": "markdown",
      "metadata": {
        "id": "dniEEoPxvCjj"
      },
      "source": [
        "## Step 5 - Implement repeating-key XOR\n",
        "\n",
        "> Here is the opening stanza of an important work of the English language:\n",
        "> ```\n",
        "> Burning 'em, if you ain't quick and nimble\n",
        "> I go crazy when I hear a cymbal\n",
        "> ```\n",
        "> Encrypt it, under the key \"ICE\", using repeating-key XOR.\n",
        ">\n",
        "> In repeating-key XOR, you'll sequentially apply each byte of the key; the first byte of plaintext will be XOR'd against I, the next C, the next E, then I again for the 4th byte, and so on.\n",
        ">\n",
        "> It should come out to:\n",
        "> ```\n",
        "> 0b3637272a2b2e63622c2e69692a23693a2a3c6324202d623d63343c2a26226324272765272\n",
        "> a282b2f20430a652e2c652a3124333a653e2b2027630c692b20283165286326302e27282f\n",
        "> ```\n"
      ]
    },
    {
      "cell_type": "markdown",
      "metadata": {
        "id": "6baTe5KSdnNS"
      },
      "source": [
        "#### Description:\n",
        "\n",
        "For this step, the input string as well as the key are available as an alphabet string and would need to be converted to byte-form for operation.\n",
        "\n",
        "**unencrypted message** - <br>\n",
        "The string is converted to bytes using the built-in `.encode()` string function available in Python. The standard `utf-8` encoding is used.\n",
        "\n",
        "**key** - <br>\n",
        "Each byte of the key is repeated multiple times sequentially to match the length of the message to be encrypted. This is achieved as follows:<br>\n",
        "`key[i % len(key)]` gives each byte of the key when iterated over `for i in range(len(unencrypted_msg)` <br>\n",
        "`ord()` returns the corresponding number representing the string, i.e. \"I\" \"C\" or \"E\"<br>\n",
        "`bytearray()` converts this list of numbers to bytes\n",
        "\n",
        "Each of the unencrypted_bytes and repeated_key is bitwise XORed, essentially XORing the first byte of key with first byte of message, and repeating it when all bytes of key are exhausted."
      ]
    },
    {
      "cell_type": "code",
      "execution_count": null,
      "metadata": {
        "id": "oCc6YxJXvCjk",
        "outputId": "77c6f452-0860-451a-9b63-cec092f8ad95"
      },
      "outputs": [
        {
          "name": "stdout",
          "output_type": "stream",
          "text": [
            "unencrypted_msg is: \n",
            " Burning 'em, if you ain't quick and nimble\n",
            "I go crazy when I hear a cymbal\n",
            "repeating key is:  ICE\n",
            "encrypted_msg is:  0b3637272a2b2e63622c2e69692a23693a2a3c6324202d623d63343c2a26226324272765272a282b2f20430a652e2c652a3124333a653e2b2027630c692b20283165286326302e27282f\n"
          ]
        }
      ],
      "source": [
        "# your code with comments\n",
        "def xor_with_repeating_key(unencrypted_msg, key):\n",
        "    #repeating the key again and again to match the length of the message to be encoded\n",
        "    repeated_key = bytearray([ord(key[i % len(key)]) for i in range(len(unencrypted_msg))])\n",
        "    #converting the original message to bytes\n",
        "    unencrypted_bytes = unencrypted_msg.encode('utf-8')\n",
        "    #bitwise XOR operation\n",
        "    encrypted_bytes = bytes(x ^ y for x, y in zip(unencrypted_bytes, repeated_key))\n",
        "    #convering the XORed bytes tp hex string\n",
        "    encrypted_hex = encrypted_bytes.hex()\n",
        "    return encrypted_hex\n",
        "\n",
        "unencrypted_msg = \"Burning 'em, if you ain't quick and nimble\\nI go crazy when I hear a cymbal\"\n",
        "key = \"ICE\"\n",
        "\n",
        "encrypted_hex = xor_with_repeating_key(unencrypted_msg, key)\n",
        "print(\"unencrypted_msg is: \\n\", unencrypted_msg)\n",
        "print(\"repeating key is: \", key)\n",
        "print(\"encrypted_msg is: \", encrypted_hex)\n"
      ]
    },
    {
      "cell_type": "markdown",
      "metadata": {
        "id": "73EfoeObvCjk"
      },
      "source": [
        "## Step 6 (Main Step) - Break repeating-key XOR\n",
        "\n",
        "> There's a file [here](data/06.txt). It's been base64'd after being encrypted with repeating-key XOR.\n",
        ">\n",
        "> Decrypt it.\n",
        ">\n",
        "> Here's how:\n",
        ">\n",
        "> - Let KEYSIZE be the guessed length of the key; try values from 2 to (say) 40.\n",
        ">\n",
        "> - Write a function to compute the edit distance/Hamming distance between two strings. The Hamming distance is just the number of differing bits. The distance between:\n",
        "```\"this is a test\"```\n",
        "and\n",
        "```\"wokka wokka!!!\"```\n",
        "is 37. Make sure your code agrees before you proceed.\n",
        ">\n",
        "> - For each KEYSIZE, take the first KEYSIZE worth of bytes, and the second KEYSIZE worth of bytes, and find the edit distance between them. Normalize this result by dividing by KEYSIZE.\n",
        ">\n",
        "> - The KEYSIZE with the smallest normalized edit distance is probably the key. You could proceed perhaps with the smallest 2-3 KEYSIZE values. Or take 4 KEYSIZE blocks instead of 2 and average the distances.\n",
        ">\n",
        "> - Now that you probably know the KEYSIZE: break the ciphertext into blocks of KEYSIZE length.\n",
        ">\n",
        "> - Now transpose the blocks: make a block that is the first byte of every block, and a block that is the second byte of every block, and so on.\n",
        ">\n",
        "> - Solve each block as if it was single-character XOR. You already have code to do this.\n",
        "> For each block, the single-byte XOR key that produces the best looking histogram is the repeating-key XOR key byte for that block. Put them together and you have the key."
      ]
    },
    {
      "cell_type": "markdown",
      "metadata": {
        "id": "JdSyX_dZvCjl"
      },
      "source": [
        "#### Description\n",
        "\n",
        "Step-by-step approach:\n",
        "1. **Finding the optimum keysize** - <br>\n",
        "a. Divide the ciphertext into slices of keysize length<br>\n",
        "b. For each consecutive slice, calculate the hamming distance between them and normalize it by dividing it with keysize<br>\n",
        "c. Find the minimum averaged normalized hamming distance and the associated keysize for it<br><br>\n",
        "2. **Breaking the ciphertext** into slices of this guessed keysize length <br>\n",
        "a. Pad the slice with zeros which has fewer number of bytes compared to the other slices (mostly the last slice) <br><br>\n",
        "3. **Transposing the blocks** <br> Collect the first byte of each block into first, second byte into second - giving total keysize transposed blocks <br><br>\n",
        "4. **Solving each block** <br>\n",
        "a. Use the single-character XOR cipher function declared in step 3 to find the decoded message with highest English score. <br>\n",
        "a. Best-looking histogram here means the the message which makes a meaninful English sentence<br>\n",
        "b. The key from each of the transposed block is collected <br><br>\n",
        "5. **Constructing the key**<br>\n",
        "a. Concatentate the keys deduced into a single string, and converting it to ascii gives the key<br>"
      ]
    },
    {
      "cell_type": "code",
      "execution_count": null,
      "metadata": {
        "id": "pi2_73UxvCjl",
        "outputId": "d210de7e-3197-4423-d3e1-1d00e4ad3dbb"
      },
      "outputs": [
        {
          "name": "stdout",
          "output_type": "stream",
          "text": [
            "hamming distance between 'this is a test' and 'wokka wokka!!!' is:  37\n",
            "Guessed Keysize is:  29\n",
            "Number of transposed blocks is:  29\n",
            "Repeated-key is:  Terminator X: Bring the noise\n"
          ]
        }
      ],
      "source": [
        "# your code with comments\n",
        "import base64\n",
        "\n",
        "def hamming_distance(str1, str2):\n",
        "    # Calculate the Hamming distance between two strings\n",
        "    return sum(bin(ord(x) ^ ord(y)).count('1') for x, y in zip(str1, str2))\n",
        "\n",
        "print(\"hamming distance between 'this is a test' and 'wokka wokka!!!' is: \", hamming_distance(\"this is a test\", \"wokka wokka!!!\"))\n",
        "\n",
        "#reading the ciphertext\n",
        "with open(\"data/06.txt\", \"r\") as file:\n",
        "    base64_ciphertext = file.read()\n",
        "\n",
        "#convert the ciphertext into bytes\n",
        "ciphertext = base64.b64decode(base64_ciphertext)\n",
        "\n",
        "keysize_dist = []\n",
        "\n",
        "for keysize in range(2, 41):\n",
        "    #dividing the ciphertext into slices of 'keysize' length\n",
        "    slices = [ciphertext[i:i + keysize] for i in range(0, len(ciphertext), keysize)]\n",
        "    distances = []\n",
        "    #calculating normalized distance for each consecutive slice\n",
        "    for s1 ,s2 in zip(slices, slices[1:]):\n",
        "        ham_dist = hamming_distance(s1.decode('utf-8'), s2.decode('utf-8'))\n",
        "        norm_dist = ham_dist / keysize\n",
        "        distances.append(norm_dist)\n",
        "    #finding the average normalized distance for this keysize\n",
        "    average_dist = sum(distances) / len(distances)\n",
        "    keysize_dist.append([keysize, average_dist])\n",
        "\n",
        "#finding the smallest average normalized hamming distance\n",
        "least_dist = min(keysize_dist, key=lambda x: x[1])\n",
        "# print(least_dist)\n",
        "\n",
        "#the keysize with smallest distance is the actual size of the key\n",
        "guess_keysize = least_dist[0]\n",
        "\n",
        "print(\"Guessed Keysize is: \", guess_keysize)\n",
        "\n",
        "#dividing the ciphertext into slices of 'guessed keysize' length\n",
        "blocks = [ciphertext[i:i+guess_keysize] for i in range(0, len(ciphertext), guess_keysize)]\n",
        "# print(blocks[-1])\n",
        "\n",
        "# Pad the element which is not proportionate in byte length\n",
        "for i,block in enumerate(blocks):\n",
        "    if(len(block) < guess_keysize):\n",
        "        padded_block = block + bytes([0] * (guess_keysize - len(block)))\n",
        "        blocks[i] = padded_block\n",
        "\n",
        "# print(blocks[-1])\n",
        "\n",
        "#transposing the blocks to get total of 'guessed keysize' blocks\n",
        "transposed_blocks = [bytes([block[j] for block in blocks]) for j in range(guess_keysize)]\n",
        "print(\"Number of transposed blocks is: \", len(transposed_blocks))\n",
        "\n",
        "keys = []\n",
        "\n",
        "#solving each of the transposed blocks as a single-byte XOR cipher\n",
        "for i,t_block in enumerate(transposed_blocks):\n",
        "    original_msg, score, enc_key = single_byte_xor_cipher(t_block.hex())\n",
        "    keys.append(enc_key)\n",
        "\n",
        "#Concatenating the keys into a hex string\n",
        "found_key = bytearray(keys).hex()\n",
        "\n",
        "#Convering it to ascii format to get the key\n",
        "keys_byte = bytes.fromhex(found_key)\n",
        "keys_string = keys_byte.decode(\"utf-8\")\n",
        "print(\"Repeated-key is: \", keys_string)"
      ]
    }
  ],
  "metadata": {
    "colab": {
      "provenance": [],
      "include_colab_link": true
    },
    "kernelspec": {
      "display_name": "Python 3 (ipykernel)",
      "language": "python",
      "name": "python3"
    },
    "language_info": {
      "codemirror_mode": {
        "name": "ipython",
        "version": 3
      },
      "file_extension": ".py",
      "mimetype": "text/x-python",
      "name": "python",
      "nbconvert_exporter": "python",
      "pygments_lexer": "ipython3",
      "version": "3.10.12"
    }
  },
  "nbformat": 4,
  "nbformat_minor": 0
}
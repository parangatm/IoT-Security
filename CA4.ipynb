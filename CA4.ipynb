{
  "cells": [
    {
      "cell_type": "markdown",
      "metadata": {
        "id": "view-in-github",
        "colab_type": "text"
      },
      "source": [
        "<a href=\"https://colab.research.google.com/github/parangatm/IoT-Security/blob/main/CA4.ipynb\" target=\"_parent\"><img src=\"https://colab.research.google.com/assets/colab-badge.svg\" alt=\"Open In Colab\"/></a>"
      ]
    },
    {
      "cell_type": "markdown",
      "id": "9b42cc66",
      "metadata": {
        "id": "9b42cc66"
      },
      "source": [
        "## EC209AS - Computer Assignment 4"
      ]
    },
    {
      "cell_type": "code",
      "execution_count": null,
      "id": "c7725aee",
      "metadata": {
        "id": "c7725aee"
      },
      "outputs": [],
      "source": [
        "## Importing the necessary libraries\n",
        "import hashlib\n",
        "import random\n",
        "import time"
      ]
    },
    {
      "cell_type": "code",
      "execution_count": null,
      "id": "f6283b0a",
      "metadata": {
        "id": "f6283b0a"
      },
      "outputs": [],
      "source": [
        "## Reading the necessary files\n",
        "rn_16 = open(\"random_numbers_16.txt\", \"r\")\n",
        "at_8 = open(\"attack_8.txt\", \"r\")\n",
        "zr_8 = open(\"zeros_8.txt\", \"r\")\n",
        "\n",
        "mem_contents = rn_16.read().split('\\n')\n",
        "attack_contents = at_8.read().split('\\n')\n",
        "zero_contents = zr_8.read().split('\\n')"
      ]
    },
    {
      "cell_type": "markdown",
      "id": "af614517",
      "metadata": {
        "id": "af614517"
      },
      "source": [
        "### Design\n",
        "\n",
        "1. **Verifier**: Write a verifier function that creates a nonce, sends the nonce to the prover function, and invokes it (details later). Once the response is received, it locally computes the hash itself and compares it with the response. It passes the test if the two hashes are equal.\n",
        "\n",
        "2. **Prover**: It takes the nonce, reads the memory line-by-line, and computes the hash. It returns the final hash value."
      ]
    },
    {
      "cell_type": "code",
      "execution_count": null,
      "id": "3a43b803",
      "metadata": {
        "id": "3a43b803"
      },
      "outputs": [],
      "source": [
        "## verifier function\n",
        "def verifier(mem_contents, prover):\n",
        "    nonce = random.randint(0, 256)\n",
        "    start_time = time.time()\n",
        "    response_hash = prover(nonce, mem_contents)\n",
        "    end_time = time.time()\n",
        "    time_elapsed = end_time - start_time\n",
        "    g = hashlib.sha256()\n",
        "    g.update(str(nonce).encode())\n",
        "    for line in mem_contents:\n",
        "        g.update(line.encode())\n",
        "    golden_hash = g.hexdigest()\n",
        "    verified = (golden_hash == response_hash)\n",
        "    return verified, time_elapsed"
      ]
    },
    {
      "cell_type": "code",
      "execution_count": null,
      "id": "ef1f086e",
      "metadata": {
        "id": "ef1f086e"
      },
      "outputs": [],
      "source": [
        "## prover function\n",
        "def prover(nonce, mem_contents):\n",
        "    m = hashlib.sha256()\n",
        "    m.update(str(nonce).encode())\n",
        "    for line in mem_contents:\n",
        "        m.update(line.encode())\n",
        "    computed_hash = m.hexdigest()\n",
        "    return computed_hash"
      ]
    },
    {
      "cell_type": "markdown",
      "id": "8f987c39",
      "metadata": {
        "id": "8f987c39"
      },
      "source": [
        "### Step 1\n",
        "Measure the time it takes to complete an attestation. Use a timer and start it after creating the nonce and stop it once the prover function returns its final hash (i.e., measure how long it takes to compute the hash in prover). To find the average time, repeat this process 10 times and report the average."
      ]
    },
    {
      "cell_type": "code",
      "execution_count": null,
      "id": "d0624d4d",
      "metadata": {
        "id": "d0624d4d",
        "outputId": "60837642-d080-440d-cbe4-ed41c1ee7145"
      },
      "outputs": [
        {
          "name": "stdout",
          "output_type": "stream",
          "text": [
            "0.0003537416458129883\n"
          ]
        }
      ],
      "source": [
        "## Averaging over 10 iterations\n",
        "times = []\n",
        "for _ in range(10):\n",
        "    authenticated, time_taken = verifier(mem_contents, prover)\n",
        "    times.append(time_taken)\n",
        "\n",
        "avg_time = sum(times)/len(times)\n",
        "print(avg_time)"
      ]
    },
    {
      "cell_type": "markdown",
      "id": "ee0ce7b4",
      "metadata": {
        "id": "ee0ce7b4"
      },
      "source": [
        "### Step 2\n",
        "Create an attack as follows:\n",
        "- Create a pre-compute function that does the following: it combines the “_zeros_8_” and “_attack_8_” files by copying the non-zero parts of the former into the zero parts of the latter.\n",
        "- Use the new file, write a malicous_prover function that takes the nonce and computes the correct hash for the zeros_8 file but only using the attack_8 file (note that you can assume that the second half of the file should have been zero, and use that to forward the correct content and compute the hash)."
      ]
    },
    {
      "cell_type": "code",
      "execution_count": null,
      "id": "fb77fa55",
      "metadata": {
        "id": "fb77fa55"
      },
      "outputs": [],
      "source": [
        "## Pre-compute function\n",
        "def pre_compute(attack_contents, zero_contents):\n",
        "    new_contents = []\n",
        "    for attack_line, zero_line in zip(attack_contents, zero_contents):\n",
        "        if attack_line == \"0\":\n",
        "            new_contents.append(zero_line)\n",
        "        else:\n",
        "            new_contents.append(attack_line)\n",
        "    with open(\"out.txt\", \"w\") as f:\n",
        "        f.writelines(new_contents)\n",
        "    return new_contents\n",
        "\n",
        "new_contents = pre_compute(attack_contents, zero_contents)"
      ]
    },
    {
      "cell_type": "code",
      "execution_count": null,
      "id": "ba049ab3",
      "metadata": {
        "id": "ba049ab3"
      },
      "outputs": [],
      "source": [
        "## Malicious Prover\n",
        "def malicious_prover(nonce,actual_contents,attack_contents=attack_contents):\n",
        "    new_contents = []\n",
        "    m = hashlib.sha256()\n",
        "    m.update(str(nonce).encode())\n",
        "    for actual_line, attack_line in zip(actual_contents, attack_contents):\n",
        "        m.update(actual_line.encode())\n",
        "        if actual_line == \"0\":\n",
        "            new_contents.append(attack_line)\n",
        "        else:\n",
        "            new_contents.append(actual_line)\n",
        "    computed_hash = m.hexdigest()\n",
        "    return computed_hash"
      ]
    },
    {
      "cell_type": "code",
      "execution_count": null,
      "id": "bdfc7f5e",
      "metadata": {
        "id": "bdfc7f5e",
        "outputId": "10c66484-8529-42bd-fe1c-aac512ae1f15"
      },
      "outputs": [
        {
          "name": "stdout",
          "output_type": "stream",
          "text": [
            "True\n"
          ]
        }
      ],
      "source": [
        "authenticated, time_taken = verifier(zero_contents, malicious_prover)\n",
        "print(authenticated)"
      ]
    },
    {
      "cell_type": "markdown",
      "id": "36488a07",
      "metadata": {
        "id": "36488a07"
      },
      "source": [
        "### Step 3\n",
        "Once you confirm that the attack passes the test successfully, measure the time for the malicous_prover function. Report the average (10 runs)."
      ]
    },
    {
      "cell_type": "code",
      "execution_count": null,
      "id": "3a2e7efe",
      "metadata": {
        "id": "3a2e7efe",
        "outputId": "c959d968-2744-45b5-8599-87127ca51fa7"
      },
      "outputs": [
        {
          "name": "stdout",
          "output_type": "stream",
          "text": [
            "Average true time:  0.0001874208450317383\n",
            "Average malicious time:  0.000377964973449707\n"
          ]
        }
      ],
      "source": [
        "true_times = []\n",
        "for _ in range(10):\n",
        "    authenticated, time_taken = verifier(zero_contents, prover)\n",
        "    true_times.append(time_taken)\n",
        "\n",
        "malicious_times = []\n",
        "for _ in range(10):\n",
        "    authenticated, time_taken = verifier(zero_contents, malicious_prover)\n",
        "    malicious_times.append(time_taken)\n",
        "\n",
        "avg_true_time = sum(true_times)/len(true_times)\n",
        "print(\"Average true time: \", avg_true_time)\n",
        "\n",
        "avg_malicious_time = sum(malicious_times)/len(malicious_times)\n",
        "print(\"Average malicious time: \", avg_malicious_time)"
      ]
    },
    {
      "cell_type": "code",
      "execution_count": null,
      "id": "46d1e779",
      "metadata": {
        "id": "46d1e779",
        "outputId": "a62d1248-3884-4f59-c9d8-90b90c2601a2"
      },
      "outputs": [
        {
          "name": "stdout",
          "output_type": "stream",
          "text": [
            "[23.2696533203125, 16.379356384277344, 16.379356384277344, 16.21246337890625, 24.509429931640625, 22.530555725097656, 16.069412231445312, 20.742416381835938, 15.664100646972656, 15.664100646972656]\n"
          ]
        }
      ],
      "source": [
        "print([i*100000 for i in true_times])"
      ]
    },
    {
      "cell_type": "code",
      "execution_count": null,
      "id": "0ab0eaa8",
      "metadata": {
        "id": "0ab0eaa8",
        "outputId": "b8a3a4b4-aaf0-4c2d-e01e-613a14ee00f1"
      },
      "outputs": [
        {
          "name": "stdout",
          "output_type": "stream",
          "text": [
            "[30.58910369873047, 28.848648071289062, 28.443336486816406, 28.53870391845703, 28.276443481445312, 31.35204315185547, 52.21366882324219, 52.97660827636719, 46.944618225097656, 49.78179931640625]\n"
          ]
        }
      ],
      "source": [
        "print([i*100000 for i in malicious_times])"
      ]
    },
    {
      "cell_type": "markdown",
      "id": "1cd16a42",
      "metadata": {
        "id": "1cd16a42"
      },
      "source": [
        "### Step 4\n",
        "Assuming that the times are slightly different, modify the verifier function to check the response time and only accept the response only if the hash is correct and the response time is less than a threshold. Explain how you find that threshold."
      ]
    },
    {
      "cell_type": "code",
      "execution_count": null,
      "id": "5af91c14",
      "metadata": {
        "id": "5af91c14"
      },
      "outputs": [],
      "source": [
        "## Verifier with a threshold\n",
        "def verifier_threshold(mem_contents, prover):\n",
        "    nonce = random.randint(0, 256)\n",
        "    start_time = time.time()\n",
        "    response_hash = prover(nonce, mem_contents)\n",
        "    end_time = time.time()\n",
        "    time_elapsed = end_time - start_time\n",
        "    g = hashlib.sha256()\n",
        "    g.update(str(nonce).encode())\n",
        "    for line in mem_contents:\n",
        "        g.update(line.encode())\n",
        "    golden_hash = g.hexdigest()\n",
        "    if golden_hash == response_hash:\n",
        "        if (time_elapsed*100000) < 28.0:\n",
        "            return True, time_elapsed\n",
        "    return False, time_elapsed"
      ]
    },
    {
      "cell_type": "markdown",
      "id": "32c8e205",
      "metadata": {
        "id": "32c8e205"
      },
      "source": [
        "**Choice for Threshold** : Based on observing the true and malicious prover times for a few iterations, 0.00028 is a valid threshold with **most** malicious prover functions not being authenticated."
      ]
    },
    {
      "cell_type": "code",
      "execution_count": null,
      "id": "6521c13c",
      "metadata": {
        "id": "6521c13c",
        "outputId": "e9578467-fdcb-4e3f-bbda-3130ed80f9f0"
      },
      "outputs": [
        {
          "name": "stdout",
          "output_type": "stream",
          "text": [
            "True 0.00020241737365722656\n",
            "False 0.0006394386291503906\n"
          ]
        }
      ],
      "source": [
        "auth, time_true = verifier_threshold(zero_contents, prover)\n",
        "print(auth, time_true)\n",
        "\n",
        "m_auth, time_m = verifier_threshold(zero_contents, malicious_prover)\n",
        "print(m_auth, time_m)"
      ]
    },
    {
      "cell_type": "markdown",
      "id": "4d0d6783",
      "metadata": {
        "id": "4d0d6783"
      },
      "source": [
        "### Step 5\n",
        "Repeat this process 10 times, 5 with the correct verifier and 5 with the malicious, and report the true and false positive rates."
      ]
    },
    {
      "cell_type": "code",
      "execution_count": null,
      "id": "93469f5d",
      "metadata": {
        "id": "93469f5d",
        "outputId": "57e81199-ce80-4721-b288-6dd2fbcea4af"
      },
      "outputs": [
        {
          "name": "stdout",
          "output_type": "stream",
          "text": [
            "Average true time:  19.55270767211914\n",
            "Average malicious time:  41.544437408447266\n",
            "True positive:  0.8\n",
            "False positive:  0.3\n"
          ]
        }
      ],
      "source": [
        "true_times = []\n",
        "true_responses = []\n",
        "for _ in range(10):\n",
        "    authenticated, time_taken = verifier_threshold(zero_contents, prover)\n",
        "    true_times.append(time_taken)\n",
        "    true_responses.append(authenticated)\n",
        "\n",
        "malicious_times = []\n",
        "malicious_responses = []\n",
        "for _ in range(10):\n",
        "    authenticated, time_taken = verifier_threshold(zero_contents, malicious_prover)\n",
        "    malicious_times.append(time_taken)\n",
        "    malicious_responses.append(authenticated)\n",
        "\n",
        "avg_true_time = sum(true_times)/len(true_times)\n",
        "true_positive = true_responses.count(True)/len(true_responses)\n",
        "avg_malicious_time = sum(malicious_times)/len(malicious_times)\n",
        "false_positive = malicious_responses.count(True)/len(malicious_responses)\n",
        "\n",
        "print(\"Average true time: \", avg_true_time*100000)\n",
        "print(\"Average malicious time: \", avg_malicious_time*100000)\n",
        "\n",
        "print(\"True positive: \", true_positive)\n",
        "print(\"False positive: \", false_positive)"
      ]
    },
    {
      "cell_type": "markdown",
      "id": "f7d364c2",
      "metadata": {
        "id": "f7d364c2"
      },
      "source": [
        "### Step 6\n",
        "Add a random noise to the timer (to mimic the communication and computation randomness). Report the amount of noise required to reduce the true positive rate to 50%."
      ]
    },
    {
      "cell_type": "code",
      "execution_count": null,
      "id": "1de77307",
      "metadata": {
        "id": "1de77307"
      },
      "outputs": [],
      "source": [
        "## Verifier with a threshold\n",
        "def verifier_threshold_noise(mem_contents, prover, noise):\n",
        "    nonce = random.randint(0, 256)\n",
        "    start_time = time.time()\n",
        "    response_hash = prover(nonce, mem_contents)\n",
        "    end_time = time.time()\n",
        "    random_noise = noise\n",
        "    time_elapsed = end_time - start_time + random_noise\n",
        "    g = hashlib.sha256()\n",
        "    g.update(str(nonce).encode())\n",
        "    for line in mem_contents:\n",
        "        g.update(line.encode())\n",
        "    golden_hash = g.hexdigest()\n",
        "    if golden_hash == response_hash:\n",
        "        if (time_elapsed*100000) < 28.0:\n",
        "            return True, time_elapsed\n",
        "    return False, time_elapsed"
      ]
    },
    {
      "cell_type": "code",
      "execution_count": null,
      "id": "680b861a",
      "metadata": {
        "id": "680b861a",
        "outputId": "745effcb-fd19-4cf4-db6f-de98dbc6b4fb"
      },
      "outputs": [
        {
          "name": "stdout",
          "output_type": "stream",
          "text": [
            "True positive:  0.35\n"
          ]
        }
      ],
      "source": [
        "noise = 0.00002\n",
        "\n",
        "true_responses = []\n",
        "for _ in range(10):\n",
        "    authenticated, time_taken = verifier_threshold_noise(zero_contents, prover, noise)\n",
        "    true_responses.append(authenticated)\n",
        "\n",
        "malicious_responses = []\n",
        "for _ in range(10):\n",
        "    authenticated, time_taken = verifier_threshold_noise(zero_contents, malicious_prover, noise)\n",
        "    malicious_responses.append(authenticated)\n",
        "\n",
        "true_positive = true_responses.count(True)/(len(true_responses)+len(malicious_responses))\n",
        "print(\"True positive: \", true_positive)"
      ]
    },
    {
      "cell_type": "markdown",
      "id": "e81ce74e",
      "metadata": {
        "id": "e81ce74e"
      },
      "source": [
        "Finding the **optimum noise** - iterating through a range of values multiple times"
      ]
    },
    {
      "cell_type": "code",
      "execution_count": null,
      "id": "d77b5c08",
      "metadata": {
        "id": "d77b5c08",
        "outputId": "a2e000e2-9956-40db-a8c3-7623d67cefaa"
      },
      "outputs": [
        {
          "name": "stdout",
          "output_type": "stream",
          "text": [
            "Noise:  0.0  True positive:  0.4\n",
            "Noise:  1e-05  True positive:  0.15\n",
            "Noise:  2e-05  True positive:  0.5\n",
            "Noise:  3e-05  True positive:  0.25\n",
            "Noise:  4e-05  True positive:  0.2\n",
            "Noise:  5e-05  True positive:  0.5\n",
            "Noise:  6e-05  True positive:  0.5\n",
            "Noise:  7e-05  True positive:  0.5\n",
            "Noise:  8e-05  True positive:  0.35\n",
            "\n",
            "Noise:  0.0  True positive:  0.5\n",
            "Noise:  1e-05  True positive:  0.4\n",
            "Noise:  2e-05  True positive:  0.5\n",
            "Noise:  3e-05  True positive:  0.3\n",
            "Noise:  4e-05  True positive:  0.5\n",
            "Noise:  5e-05  True positive:  0.5\n",
            "Noise:  6e-05  True positive:  0.4\n",
            "Noise:  7e-05  True positive:  0.5\n",
            "Noise:  8e-05  True positive:  0.5\n",
            "\n",
            "Noise:  0.0  True positive:  0.5\n",
            "Noise:  1e-05  True positive:  0.5\n",
            "Noise:  2e-05  True positive:  0.5\n",
            "Noise:  3e-05  True positive:  0.5\n",
            "Noise:  4e-05  True positive:  0.5\n",
            "Noise:  5e-05  True positive:  0.4\n",
            "Noise:  6e-05  True positive:  0.5\n",
            "Noise:  7e-05  True positive:  0.4\n",
            "Noise:  8e-05  True positive:  0.5\n",
            "\n",
            "Noise:  0.0  True positive:  0.35\n",
            "Noise:  1e-05  True positive:  0.5\n",
            "Noise:  2e-05  True positive:  0.5\n",
            "Noise:  3e-05  True positive:  0.45\n",
            "Noise:  4e-05  True positive:  0.5\n",
            "Noise:  5e-05  True positive:  0.3\n",
            "Noise:  6e-05  True positive:  0.45\n",
            "Noise:  7e-05  True positive:  0.15\n",
            "Noise:  8e-05  True positive:  0.5\n",
            "\n",
            "Noise:  0.0  True positive:  0.45\n",
            "Noise:  1e-05  True positive:  0.45\n",
            "Noise:  2e-05  True positive:  0.5\n",
            "Noise:  3e-05  True positive:  0.4\n",
            "Noise:  4e-05  True positive:  0.5\n",
            "Noise:  5e-05  True positive:  0.45\n",
            "Noise:  6e-05  True positive:  0.5\n",
            "Noise:  7e-05  True positive:  0.35\n",
            "Noise:  8e-05  True positive:  0.45\n",
            "\n"
          ]
        }
      ],
      "source": [
        "for _ in range(5):\n",
        "    for n in range(9):\n",
        "        noise = n / 100000\n",
        "\n",
        "        true_responses = []\n",
        "        for _ in range(10):\n",
        "            authenticated, time_taken = verifier_threshold_noise(zero_contents, prover, noise)\n",
        "            true_responses.append(authenticated)\n",
        "\n",
        "        malicious_responses = []\n",
        "        for _ in range(10):\n",
        "            authenticated, time_taken = verifier_threshold_noise(zero_contents, malicious_prover, noise)\n",
        "            malicious_responses.append(authenticated)\n",
        "\n",
        "        true_positive = true_responses.count(True)/(len(true_responses)+len(malicious_responses))\n",
        "        print(\"Noise: \", noise, \" True positive: \", true_positive)\n",
        "    print()"
      ]
    },
    {
      "cell_type": "code",
      "execution_count": null,
      "id": "8de14f65",
      "metadata": {
        "id": "8de14f65",
        "outputId": "e40c1036-e534-4089-f2aa-2fbbfbd25114"
      },
      "outputs": [
        {
          "data": {
            "text/plain": [
              "2e-05"
            ]
          },
          "execution_count": 28,
          "metadata": {},
          "output_type": "execute_result"
        }
      ],
      "source": [
        "optimum_noise = 0.00002\n",
        "optimum_noise"
      ]
    },
    {
      "cell_type": "markdown",
      "id": "721a6957",
      "metadata": {
        "id": "721a6957"
      },
      "source": [
        "Upon observing the true positive rates for a bunch of noise values, the optimum noise value to get true positive rate 50% is 0.00002"
      ]
    },
    {
      "cell_type": "markdown",
      "id": "b9f2d29f",
      "metadata": {
        "id": "b9f2d29f"
      },
      "source": [
        "### Step 7\n",
        "Explain how one can improve the true positive rate in the presence of such a noise."
      ]
    },
    {
      "cell_type": "markdown",
      "id": "11ae4f6f",
      "metadata": {
        "id": "11ae4f6f"
      },
      "source": [
        "One of the ways to improve the true positive rate can be to time each instruction of the prover function and check the execution time of each instruction such as `sha256()`, `update()`, `if`, `else`, `append`, `encode()`, `zip()` etc. and then deterministically find a threshold. It would need modification of the prover and malicious prover function such that the correct computation instructions are executed in a similar section of the code.\n",
        "\n",
        "Example, everything suspicious and additional should happen **after** the computation of hash, and nothing should be before that."
      ]
    }
  ],
  "metadata": {
    "kernelspec": {
      "display_name": "Python 3 (ipykernel)",
      "language": "python",
      "name": "python3"
    },
    "language_info": {
      "codemirror_mode": {
        "name": "ipython",
        "version": 3
      },
      "file_extension": ".py",
      "mimetype": "text/x-python",
      "name": "python",
      "nbconvert_exporter": "python",
      "pygments_lexer": "ipython3",
      "version": "3.10.13"
    },
    "colab": {
      "provenance": [],
      "include_colab_link": true
    }
  },
  "nbformat": 4,
  "nbformat_minor": 5
}
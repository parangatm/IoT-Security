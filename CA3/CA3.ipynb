{
  "cells": [
    {
      "cell_type": "markdown",
      "metadata": {
        "id": "view-in-github",
        "colab_type": "text"
      },
      "source": [
        "<a href=\"https://colab.research.google.com/github/parangatm/IoT-Security/blob/main/CA3.ipynb\" target=\"_parent\"><img src=\"https://colab.research.google.com/assets/colab-badge.svg\" alt=\"Open In Colab\"/></a>"
      ]
    },
    {
      "cell_type": "code",
      "execution_count": null,
      "id": "d224e020",
      "metadata": {
        "id": "d224e020"
      },
      "outputs": [],
      "source": [
        "import os\n",
        "import re"
      ]
    },
    {
      "cell_type": "code",
      "execution_count": null,
      "id": "e7142f0a",
      "metadata": {
        "id": "e7142f0a"
      },
      "outputs": [],
      "source": [
        "def get_control_blocks(code_lines):\n",
        "    blocks = []\n",
        "    current_block = []\n",
        "\n",
        "    i=0\n",
        "    while i < len(code_lines):\n",
        "\n",
        "        ## the main function\n",
        "        if \"main() {\" in code_lines[i]:\n",
        "            ## \"main()\" and \"{\" both are in same line\n",
        "            current_block.append(i)\n",
        "            i = i+1\n",
        "            continue\n",
        "        elif \"main()\" in code_lines[i]:\n",
        "            ## \"main()\" and \"{\" are in different line\n",
        "            current_block.append(i)\n",
        "            current_block.append(i+1)\n",
        "            i = i+2\n",
        "            continue\n",
        "\n",
        "        ## if statement\n",
        "        if \"if\" in code_lines[i]:\n",
        "            blocks.append(current_block)\n",
        "            ## new basic block for the \"if\" statement\n",
        "            current_block = []\n",
        "            occ = re.findall(\"if.*\\(.*{\", code_lines[i])\n",
        "            # single line if (no curly brace = only one statement in the if block)\n",
        "            if occ == []:\n",
        "                current_block.append(i)\n",
        "                current_block.append(i+1)\n",
        "                blocks.append(current_block)\n",
        "                current_block = []\n",
        "                i=i+2\n",
        "                continue\n",
        "            # multi-line if (multiple statements inside if so {...})\n",
        "            current_block.append(i)\n",
        "            i = i+1\n",
        "            continue\n",
        "\n",
        "        ## else\n",
        "        if \"else\" in code_lines[i]:\n",
        "            blocks.append(current_block)\n",
        "            ## new basic block for the \"else\" statement\n",
        "            current_block = []\n",
        "            occ = re.findall(\"else.*{\", code_lines[i])\n",
        "            # single line else (no curly brace = only one statement in the else block)\n",
        "            if occ == []:\n",
        "                current_block.append(i)\n",
        "                current_block.append(i+1)\n",
        "                blocks.append(current_block)\n",
        "                current_block = []\n",
        "                i=i+2\n",
        "                continue\n",
        "            # multi-line else (multiple statements inside else so {...})\n",
        "            current_block.append(i)\n",
        "            i = i+1\n",
        "            continue\n",
        "\n",
        "        ## ending brace - denotes ending of a control block such as if, else, for, switch\n",
        "        if \"}\" in code_lines[i]:\n",
        "            current_block.append(i)\n",
        "            blocks.append(current_block)\n",
        "            ## ending the ongoing basic block\n",
        "            current_block = []\n",
        "            i = i+1\n",
        "            continue\n",
        "\n",
        "        ## for\n",
        "        if \"for\" in code_lines[i]:\n",
        "            blocks.append(current_block)\n",
        "            ## new basic block for the \"for\" statement\n",
        "            current_block = []\n",
        "            occ = re.findall(\"for.*\\(.*{\", code_lines[i])\n",
        "            # single line for (no curly brace = only one statement in the for block)\n",
        "            if occ == []:\n",
        "                current_block.append(i)\n",
        "                current_block.append(i+1)\n",
        "                blocks.append(current_block)\n",
        "                current_block = []\n",
        "                i=i+2\n",
        "                continue\n",
        "            # multi-line for (multiple statements inside for so {...})\n",
        "            current_block.append(i)\n",
        "            i = i+1\n",
        "            continue\n",
        "\n",
        "        ## switch\n",
        "        if \"switch\" in code_lines[i]:\n",
        "            blocks.append(current_block)\n",
        "            ## new basic block for the \"switch\" statement\n",
        "            current_block = []\n",
        "            current_block.append(i)\n",
        "            i = i+1\n",
        "            continue\n",
        "\n",
        "        ## case\n",
        "        if \"case\" in code_lines[i]:\n",
        "            blocks.append(current_block)\n",
        "            ## new basic block for the \"case\" statement\n",
        "            current_block = []\n",
        "            current_block.append(i)\n",
        "            blocks.append(current_block)\n",
        "            ## new basic block for the contents of the \"case\" statement\n",
        "            current_block = []\n",
        "            current_block.append(i+1)\n",
        "            current_block.append(i+2)\n",
        "            i = i+3\n",
        "            continue\n",
        "\n",
        "        ## default\n",
        "        if \"default\" in code_lines[i]:\n",
        "            blocks.append(current_block)\n",
        "            ## new basic block for the \"default\" statement as well as its contents\n",
        "            ## till the ending '}' brace\n",
        "            current_block = []\n",
        "            current_block.append(i)\n",
        "            current_block.append(i+1)\n",
        "            current_block.append(i+2)\n",
        "            current_block.append(i+3)\n",
        "            i = i+4\n",
        "            continue\n",
        "\n",
        "        #return\n",
        "        if \"return\" in code_lines[i]:\n",
        "            current_block.append(i)\n",
        "            current_block.append(i+1)\n",
        "            blocks.append(current_block)\n",
        "            break\n",
        "\n",
        "        #comments - to be skipped\n",
        "        if \"//\" in code_lines[i]:\n",
        "            i=i+1\n",
        "            continue\n",
        "\n",
        "        ## every non-control statement\n",
        "        current_block.append(i)\n",
        "        i = i+1\n",
        "\n",
        "    return blocks"
      ]
    },
    {
      "cell_type": "code",
      "execution_count": null,
      "id": "5550691c",
      "metadata": {
        "id": "5550691c"
      },
      "outputs": [],
      "source": [
        "## read the input file and return a list containing each line as a member\n",
        "def get_code_lines(input_file):\n",
        "    fc = open(input_file, 'r')\n",
        "    code = fc.read()\n",
        "    fc.close()\n",
        "    code_lines = code.split('\\n')\n",
        "    return code_lines"
      ]
    },
    {
      "cell_type": "code",
      "execution_count": null,
      "id": "818c3e20",
      "metadata": {
        "id": "818c3e20"
      },
      "outputs": [],
      "source": [
        "## print basic blocks in a readable-fashion\n",
        "def print_basic_blocks(code_lines, blocks):\n",
        "\n",
        "    ## Cleaning - removing some empty basic blocks - containing empty lines (whitespaces/newlines)\n",
        "    for i,block in enumerate(blocks):\n",
        "        if block == []:\n",
        "            blocks.remove(block)\n",
        "        else:\n",
        "            for b in block:\n",
        "                text = code_lines[b]\n",
        "                if text == \"\":\n",
        "                    blocks[i].remove(b)\n",
        "                    #print(\"---empty popped---\")\n",
        "\n",
        "    #Cleaning\n",
        "    for i,block in enumerate(blocks):\n",
        "        if block == []:\n",
        "            blocks.remove(block)\n",
        "        else:\n",
        "            for b in block:\n",
        "                text = code_lines[b]\n",
        "                if text == \"\":\n",
        "                    blocks[i].remove(b)\n",
        "                    #print(\"---empty popped---\")\n",
        "\n",
        "    ## merging nested endings (two sequential '}') into one block\n",
        "    for i,block in enumerate(blocks):\n",
        "        if len(block) == 1:\n",
        "            stmt = code_lines[blocks[i][0]].strip()\n",
        "            if stmt == \"}\":\n",
        "                prev_block_end = code_lines[blocks[i-1][-1]].strip()\n",
        "                if prev_block_end == \"}\":\n",
        "                    blocks[i-1].append(block[0])\n",
        "                    blocks.remove(block)\n",
        "\n",
        "    for i, block in enumerate(blocks):\n",
        "        for line in block:\n",
        "            print(\"Block #\",i,\"\\t\",line+1,\"\\t\",code_lines[line])\n",
        "        print(\"-\"*75)"
      ]
    },
    {
      "cell_type": "code",
      "execution_count": null,
      "id": "1c8d4ac5",
      "metadata": {
        "id": "1c8d4ac5",
        "outputId": "d5140e4f-d62d-4d0a-b86f-84f6eeffa779"
      },
      "outputs": [
        {
          "name": "stdout",
          "output_type": "stream",
          "text": [
            "[[0, 1, 2, 3], [4, 5], [], [6, 7], [8], [9, 10], [11, 12]]\n"
          ]
        }
      ],
      "source": [
        "input_file_1 = 'myp.cpp'\n",
        "code_lines_1 = get_code_lines(input_file_1)\n",
        "basic_blocks_1 = get_control_blocks(code_lines_1)\n",
        "print(basic_blocks_1)"
      ]
    },
    {
      "cell_type": "code",
      "execution_count": null,
      "id": "c98e0bdd",
      "metadata": {
        "scrolled": true,
        "id": "c98e0bdd",
        "outputId": "ece66c5c-15ea-45ce-ac61-c086f1b3cf28"
      },
      "outputs": [
        {
          "name": "stdout",
          "output_type": "stream",
          "text": [
            "Block # 0 \t 1 \t int main()\n",
            "Block # 0 \t 2 \t {\n",
            "Block # 0 \t 3 \t int a =0; \n",
            "Block # 0 \t 4 \t int b = 2; \n",
            "---------------------------------------------------------------------------\n",
            "Block # 1 \t 5 \t if(a>-1)\n",
            "Block # 1 \t 6 \t \ta = 3;\n",
            "---------------------------------------------------------------------------\n",
            "Block # 2 \t 7 \t else \n",
            "Block # 2 \t 8 \t \ta = 4; \n",
            "---------------------------------------------------------------------------\n",
            "Block # 3 \t 9 \t a = b+ 5;\n",
            "---------------------------------------------------------------------------\n",
            "Block # 4 \t 10 \t for (int i=0; i<4; i++)\n",
            "Block # 4 \t 11 \t \tb = b+i; \n",
            "---------------------------------------------------------------------------\n",
            "Block # 5 \t 12 \t return 0;\n",
            "Block # 5 \t 13 \t }\n",
            "---------------------------------------------------------------------------\n"
          ]
        }
      ],
      "source": [
        "print_basic_blocks(code_lines_1, basic_blocks_1)"
      ]
    },
    {
      "cell_type": "code",
      "execution_count": null,
      "id": "98b5e524",
      "metadata": {
        "id": "98b5e524",
        "outputId": "4cd62153-e3cd-4f7c-d0ab-705a97664274"
      },
      "outputs": [
        {
          "name": "stdout",
          "output_type": "stream",
          "text": [
            "[[0, 1, 2, 3], [4, 5], [6, 7, 8], [9, 10, 11], [12, 13], [14, 15], [16, 17, 18], [19], [20], [22, 23], [24, 25, 26], [27], [29], [30], [31, 32], [33], [34, 35], [36, 37, 38, 39, 40], [42, 43], [44, 45], [46, 47, 48], [49, 50, 51]]\n"
          ]
        }
      ],
      "source": [
        "input_file_2 = 'advp.cpp'\n",
        "code_lines_2 = get_code_lines(input_file_2)\n",
        "basic_blocks_2 = get_control_blocks(code_lines_2)\n",
        "print(basic_blocks_2)"
      ]
    },
    {
      "cell_type": "code",
      "execution_count": null,
      "id": "fb5abf08",
      "metadata": {
        "id": "fb5abf08",
        "outputId": "0b95ad15-473d-48eb-c70e-37473f30145d"
      },
      "outputs": [
        {
          "name": "stdout",
          "output_type": "stream",
          "text": [
            "Block # 0 \t 1 \t int main() {\n",
            "Block # 0 \t 2 \t     int a = 0;\n",
            "Block # 0 \t 3 \t     int b = 2;\n",
            "---------------------------------------------------------------------------\n",
            "Block # 1 \t 5 \t     if (a > -1) {\n",
            "Block # 1 \t 6 \t         a = 3;\n",
            "---------------------------------------------------------------------------\n",
            "Block # 2 \t 7 \t     } else {\n",
            "Block # 2 \t 8 \t         a = 4;\n",
            "Block # 2 \t 9 \t     }\n",
            "---------------------------------------------------------------------------\n",
            "Block # 3 \t 11 \t     a = b + 5;\n",
            "---------------------------------------------------------------------------\n",
            "Block # 4 \t 13 \t     for (int i = 0; i < 4; i++) {\n",
            "Block # 4 \t 14 \t         b = b + i;\n",
            "---------------------------------------------------------------------------\n",
            "Block # 5 \t 15 \t         if (b < 5) {\n",
            "Block # 5 \t 16 \t             a = a * 2;\n",
            "---------------------------------------------------------------------------\n",
            "Block # 6 \t 17 \t         } else {\n",
            "Block # 6 \t 18 \t             a = a / 2;\n",
            "Block # 6 \t 19 \t         }\n",
            "Block # 6 \t 20 \t     }\n",
            "---------------------------------------------------------------------------\n",
            "Block # 7 \t 23 \t     if (a % 2 == 0) {\n",
            "Block # 7 \t 24 \t         b = b - 5;\n",
            "---------------------------------------------------------------------------\n",
            "Block # 8 \t 25 \t     } else {\n",
            "Block # 8 \t 26 \t         b = b + 5;\n",
            "Block # 8 \t 27 \t     }\n",
            "---------------------------------------------------------------------------\n",
            "Block # 9 \t 30 \t     switch (b) {\n",
            "---------------------------------------------------------------------------\n",
            "Block # 10 \t 31 \t         case 0:\n",
            "---------------------------------------------------------------------------\n",
            "Block # 11 \t 32 \t             a = a + 10;\n",
            "Block # 11 \t 33 \t             break;\n",
            "---------------------------------------------------------------------------\n",
            "Block # 12 \t 34 \t         case 1:\n",
            "---------------------------------------------------------------------------\n",
            "Block # 13 \t 35 \t             a = a - 10;\n",
            "Block # 13 \t 36 \t             break;\n",
            "---------------------------------------------------------------------------\n",
            "Block # 14 \t 37 \t         default:\n",
            "Block # 14 \t 38 \t             a = a * 2;\n",
            "Block # 14 \t 39 \t             break;\n",
            "Block # 14 \t 40 \t     }\n",
            "---------------------------------------------------------------------------\n",
            "Block # 15 \t 43 \t     if (a < 0) {\n",
            "Block # 15 \t 44 \t         b = b * -1;\n",
            "---------------------------------------------------------------------------\n",
            "Block # 16 \t 45 \t     } else if (a == 0) {\n",
            "Block # 16 \t 46 \t         b = 0;\n",
            "---------------------------------------------------------------------------\n",
            "Block # 17 \t 47 \t     } else {\n",
            "Block # 17 \t 48 \t         b = b + 1;\n",
            "Block # 17 \t 49 \t     }\n",
            "---------------------------------------------------------------------------\n",
            "Block # 18 \t 51 \t     return 0;\n",
            "Block # 18 \t 52 \t }\n",
            "---------------------------------------------------------------------------\n"
          ]
        }
      ],
      "source": [
        "print_basic_blocks(code_lines_2, basic_blocks_2)"
      ]
    }
  ],
  "metadata": {
    "kernelspec": {
      "display_name": "Python 3 (ipykernel)",
      "language": "python",
      "name": "python3"
    },
    "language_info": {
      "codemirror_mode": {
        "name": "ipython",
        "version": 3
      },
      "file_extension": ".py",
      "mimetype": "text/x-python",
      "name": "python",
      "nbconvert_exporter": "python",
      "pygments_lexer": "ipython3",
      "version": "3.10.13"
    },
    "colab": {
      "provenance": [],
      "include_colab_link": true
    }
  },
  "nbformat": 4,
  "nbformat_minor": 5
}